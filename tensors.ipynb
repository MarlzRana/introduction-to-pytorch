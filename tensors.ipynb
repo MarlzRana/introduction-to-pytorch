{
  "cells": [
    {
      "cell_type": "code",
      "execution_count": 1,
      "metadata": {
        "id": "-xrewqUGxLfV"
      },
      "outputs": [],
      "source": [
        "# For tips on running notebooks in Google Colab, see\n",
        "# https://pytorch.org/tutorials/beginner/colab\n",
        "%matplotlib inline"
      ]
    },
    {
      "cell_type": "markdown",
      "metadata": {
        "id": "GunjSFmCxLfX"
      },
      "source": [
        "\n",
        "**Learn the Basics** ||\n",
        "[Quickstart](quickstart_tutorial.html) ||\n",
        "[Tensors](tensorqs_tutorial.html) ||\n",
        "[Datasets & DataLoaders](data_tutorial.html) ||\n",
        "[Transforms](transforms_tutorial.html) ||\n",
        "[Build Model](buildmodel_tutorial.html) ||\n",
        "[Autograd](autogradqs_tutorial.html) ||\n",
        "[Optimization](optimization_tutorial.html) ||\n",
        "[Save & Load Model](saveloadrun_tutorial.html)\n",
        "\n",
        "# Learn the Basics\n",
        "\n",
        "Authors:\n",
        "[Suraj Subramanian](https://github.com/suraj813),\n",
        "[Seth Juarez](https://github.com/sethjuarez/),\n",
        "[Cassie Breviu](https://github.com/cassieview/),\n",
        "[Dmitry Soshnikov](https://soshnikov.com/),\n",
        "[Ari Bornstein](https://github.com/aribornstein/)\n",
        "\n",
        "Most machine learning workflows involve working with data, creating models, optimizing model\n",
        "parameters, and saving the trained models. This tutorial introduces you to a complete ML workflow\n",
        "implemented in PyTorch, with links to learn more about each of these concepts.\n",
        "\n",
        "We'll use the FashionMNIST dataset to train a neural network that predicts if an input image belongs\n",
        "to one of the following classes: T-shirt/top, Trouser, Pullover, Dress, Coat, Sandal, Shirt, Sneaker,\n",
        "Bag, or Ankle boot.\n",
        "\n",
        "`This tutorial assumes a basic familiarity with Python and Deep Learning concepts.`\n",
        "\n",
        "\n",
        "## Running the Tutorial Code\n",
        "You can run this tutorial in a couple of ways:\n",
        "\n",
        "- **In the cloud**: This is the easiest way to get started! Each section has a \"Run in Microsoft Learn\" and \"Run in Google Colab\" link at the top, which opens an integrated notebook in Microsoft Learn or Google Colab, respectively, with the code in a fully-hosted environment.\n",
        "- **Locally**: This option requires you to setup PyTorch and TorchVision first on your local machine ([installation instructions](https://pytorch.org/get-started/locally/)). Download the notebook or copy the code into your favorite IDE.\n",
        "\n",
        "\n",
        "## How to Use this Guide\n",
        "If you're familiar with other deep learning frameworks, check out the [0. Quickstart](quickstart_tutorial.html) first\n",
        "to quickly familiarize yourself with PyTorch's API.\n",
        "\n",
        "If you're new to deep learning frameworks, head right into the first section of our step-by-step guide: [1. Tensors](tensor_tutorial.html).\n",
        "\n",
        "\n",
        ".. include:: /beginner_source/basics/qs_toc.txt\n",
        "\n",
        ".. toctree::\n",
        "   :hidden:\n"
      ]
    },
    {
      "cell_type": "markdown",
      "source": [
        "Imports"
      ],
      "metadata": {
        "id": "ICgOtGb4x7vJ"
      }
    },
    {
      "cell_type": "code",
      "source": [
        "import torch\n",
        "import numpy as np"
      ],
      "metadata": {
        "id": "9z-cBO6txuho"
      },
      "execution_count": 2,
      "outputs": []
    },
    {
      "cell_type": "markdown",
      "source": [
        "## Initializing a Tensor"
      ],
      "metadata": {
        "id": "BaoSJR4hySz6"
      }
    },
    {
      "cell_type": "markdown",
      "source": [
        "Directly from data"
      ],
      "metadata": {
        "id": "jnSN0Q69x9Ju"
      }
    },
    {
      "cell_type": "code",
      "source": [
        "data = [\n",
        "    [1, 2],\n",
        "    [3, 4]\n",
        "]\n",
        "x_data = torch.tensor(data)\n",
        "\n",
        "x_data"
      ],
      "metadata": {
        "colab": {
          "base_uri": "https://localhost:8080/"
        },
        "id": "NJSty-VSx6gz",
        "outputId": "6db02ca3-e664-45a7-9060-de2d5b2ff59c"
      },
      "execution_count": 3,
      "outputs": [
        {
          "output_type": "execute_result",
          "data": {
            "text/plain": [
              "tensor([[1, 2],\n",
              "        [3, 4]])"
            ]
          },
          "metadata": {},
          "execution_count": 3
        }
      ]
    },
    {
      "cell_type": "markdown",
      "source": [
        "From a NumPy array"
      ],
      "metadata": {
        "id": "vJcaRMcpyX6p"
      }
    },
    {
      "cell_type": "code",
      "source": [
        "np_array = np.array(data)\n",
        "x_np = torch.from_numpy(np_array)\n",
        "\n",
        "x_np"
      ],
      "metadata": {
        "colab": {
          "base_uri": "https://localhost:8080/"
        },
        "id": "g07FA8KPybeQ",
        "outputId": "78ba26d6-4bc5-4721-9365-21f8010aa15e"
      },
      "execution_count": 4,
      "outputs": [
        {
          "output_type": "execute_result",
          "data": {
            "text/plain": [
              "tensor([[1, 2],\n",
              "        [3, 4]])"
            ]
          },
          "metadata": {},
          "execution_count": 4
        }
      ]
    },
    {
      "cell_type": "markdown",
      "source": [
        "From another tensor:\n",
        "\n",
        "Note shape and dtype are reserved in these operation unless specifically overrun"
      ],
      "metadata": {
        "id": "OynAxbjCypRu"
      }
    },
    {
      "cell_type": "code",
      "source": [
        "x_ones = torch.ones_like(x_data)\n",
        "print(f\"x_ones: {x_ones}\")\n",
        "\n",
        "# Specificallly overriding the preservation of dtype\n",
        "x_rand = torch.rand_like(x_data, dtype=torch.float)"
      ],
      "metadata": {
        "colab": {
          "base_uri": "https://localhost:8080/"
        },
        "id": "MhFALUcey1jn",
        "outputId": "f27ee8f4-cf23-4b6c-92f9-1d7c7651db5d"
      },
      "execution_count": 5,
      "outputs": [
        {
          "output_type": "stream",
          "name": "stdout",
          "text": [
            "x_ones: tensor([[1, 1],\n",
            "        [1, 1]])\n"
          ]
        }
      ]
    },
    {
      "cell_type": "markdown",
      "source": [
        "With random or constant values:"
      ],
      "metadata": {
        "id": "U8Ga5SQAzkI3"
      }
    },
    {
      "cell_type": "code",
      "source": [
        "shape = (2, 3,)\n",
        "\n",
        "rand_tensor = torch.rand(shape)\n",
        "ones_tensor = torch.ones(shape)\n",
        "zeros_tensor = torch.zeros(shape)\n",
        "\n",
        "print(f\"rand_tensor: {rand_tensor}\")\n",
        "print(f\"ones_tensor: {ones_tensor}\")\n",
        "print(f\"zeros_tensor: {zeros_tensor}\")\n",
        "\n",
        "# Note the default assumed dtype is torch.float32"
      ],
      "metadata": {
        "colab": {
          "base_uri": "https://localhost:8080/"
        },
        "id": "lH9YyIlzzk57",
        "outputId": "d2620f9f-65d4-4dd1-e3a8-790e87071bc3"
      },
      "execution_count": 6,
      "outputs": [
        {
          "output_type": "stream",
          "name": "stdout",
          "text": [
            "rand_tensor: tensor([[0.9189, 0.1128, 0.5910],\n",
            "        [0.0225, 0.9473, 0.4438]])\n",
            "ones_tensor: tensor([[1., 1., 1.],\n",
            "        [1., 1., 1.]])\n",
            "zeros_tensor: tensor([[0., 0., 0.],\n",
            "        [0., 0., 0.]])\n"
          ]
        }
      ]
    },
    {
      "cell_type": "markdown",
      "source": [
        "## Attributes of a Tensor\n"
      ],
      "metadata": {
        "id": "ygvdU0SZ0UnF"
      }
    },
    {
      "cell_type": "code",
      "source": [
        "tensor = torch.rand(3, 4)\n",
        "\n",
        "print(\"Tensor attributes: \")\n",
        "print(f\"tensor.shape: {tensor.shape}\")\n",
        "print(f\"tensor.dtype: {tensor.dtype}\")\n",
        "print(f\"tensor.device: {tensor.device}\")"
      ],
      "metadata": {
        "colab": {
          "base_uri": "https://localhost:8080/"
        },
        "id": "rhklzkPP0Tlb",
        "outputId": "e03e54fe-5b1a-40c0-bd00-6c1f0c0856b0"
      },
      "execution_count": 7,
      "outputs": [
        {
          "output_type": "stream",
          "name": "stdout",
          "text": [
            "Tensor attributes: \n",
            "tensor.shape: torch.Size([3, 4])\n",
            "tensor.dtype: torch.float32\n",
            "tensor.device: cpu\n"
          ]
        }
      ]
    },
    {
      "cell_type": "markdown",
      "source": [
        "## Operations on Tensors"
      ],
      "metadata": {
        "id": "yfpQfH6j1JV7"
      }
    },
    {
      "cell_type": "markdown",
      "source": [
        "Copying a tensor from cpu to cuda/gpu"
      ],
      "metadata": {
        "id": "QDi4wMgo2Sn9"
      }
    },
    {
      "cell_type": "code",
      "source": [
        "if torch.cuda.is_available():\n",
        "  print(\"cuda is available!\")\n",
        "  tensor = tensor.to(\"cuda\")"
      ],
      "metadata": {
        "colab": {
          "base_uri": "https://localhost:8080/"
        },
        "id": "QKUFrL8u1ZOu",
        "outputId": "50e344b1-416a-45c6-96b5-50c0cf7fee67"
      },
      "execution_count": 11,
      "outputs": [
        {
          "output_type": "stream",
          "name": "stdout",
          "text": [
            "cuda is available!\n"
          ]
        }
      ]
    },
    {
      "cell_type": "markdown",
      "source": [
        "Standard numpy-like indexing and slicing:\n"
      ],
      "metadata": {
        "id": "hg0Yypra2RaX"
      }
    },
    {
      "cell_type": "code",
      "source": [
        "tensor = torch.ones(4, 4)\n",
        "\n",
        "print(f\"First row: {tensor[0]}\")\n",
        "print(f\"First column: {tensor[:,0]}\")\n",
        "print(f\"Last column: {tensor[:, -1]}\")\n",
        "\n",
        "tensor[:, 1] = 0\n",
        "\n",
        "tensor"
      ],
      "metadata": {
        "colab": {
          "base_uri": "https://localhost:8080/"
        },
        "id": "lZewFiiq2cHg",
        "outputId": "b061fd80-2a89-4106-8ddb-9f9a4fad1f7c"
      },
      "execution_count": 17,
      "outputs": [
        {
          "output_type": "stream",
          "name": "stdout",
          "text": [
            "First row: tensor([1., 1., 1., 1.])\n",
            "First column: tensor([1., 1., 1., 1.])\n",
            "Last column: tensor([1., 1., 1., 1.])\n"
          ]
        },
        {
          "output_type": "execute_result",
          "data": {
            "text/plain": [
              "tensor([[1., 0., 1., 1.],\n",
              "        [1., 0., 1., 1.],\n",
              "        [1., 0., 1., 1.],\n",
              "        [1., 0., 1., 1.]])"
            ]
          },
          "metadata": {},
          "execution_count": 17
        }
      ]
    },
    {
      "cell_type": "markdown",
      "source": [
        "Joining tensors"
      ],
      "metadata": {
        "id": "qjdN0oDg3N6j"
      }
    },
    {
      "cell_type": "code",
      "source": [
        "t1 = torch.cat([tensor, tensor, tensor], dim=1)\n",
        "\n",
        "t1"
      ],
      "metadata": {
        "colab": {
          "base_uri": "https://localhost:8080/"
        },
        "id": "XBH70vVx3QEa",
        "outputId": "7a621ea5-902d-4cfd-de83-dcdc03d93355"
      },
      "execution_count": 20,
      "outputs": [
        {
          "output_type": "execute_result",
          "data": {
            "text/plain": [
              "tensor([[1., 0., 1., 1., 1., 0., 1., 1., 1., 0., 1., 1.],\n",
              "        [1., 0., 1., 1., 1., 0., 1., 1., 1., 0., 1., 1.],\n",
              "        [1., 0., 1., 1., 1., 0., 1., 1., 1., 0., 1., 1.],\n",
              "        [1., 0., 1., 1., 1., 0., 1., 1., 1., 0., 1., 1.]])"
            ]
          },
          "metadata": {},
          "execution_count": 20
        }
      ]
    },
    {
      "cell_type": "markdown",
      "source": [
        "dim = 0 means row wise (as the first subscript operator selects the row)\n",
        "dim = 1 means column wise (as the second subcript operator selects the column)\n",
        "..."
      ],
      "metadata": {
        "id": "6tDBp8uX4CpW"
      }
    },
    {
      "cell_type": "markdown",
      "source": [
        "Arithmetic operations"
      ],
      "metadata": {
        "id": "mjYBJaTe4Rm2"
      }
    },
    {
      "cell_type": "code",
      "source": [
        "y1 = tensor @ tensor.T\n",
        "y2 = tensor.matmul(tensor.T)\n",
        "\n",
        "print(f\"y1 : {y1}\\n\")\n",
        "print(f\"y2: {y2}\\n\")\n",
        "\n",
        "y3 = torch.rand_like(y1)\n",
        "torch.matmul(tensor, tensor.T, out=y3)\n",
        "\n",
        "print(f\"y3: {y3}\\n\")\n",
        "\n",
        "z1 = tensor * tensor\n",
        "z2 = tensor.mul(tensor)\n",
        "\n",
        "print(f\"z1: {z1}\")\n",
        "print(f\"z2: {z2}\")\n",
        "\n",
        "z3 = torch.rand_like(tensor)\n",
        "torch.mul(tensor, tensor, out=z3)\n",
        "\n",
        "print(f\"z3: {z3}\")"
      ],
      "metadata": {
        "colab": {
          "base_uri": "https://localhost:8080/"
        },
        "id": "cLSbKI1-4edt",
        "outputId": "7eb607a7-ad5b-4419-8de9-d1810de90bdc"
      },
      "execution_count": 27,
      "outputs": [
        {
          "output_type": "stream",
          "name": "stdout",
          "text": [
            "y1 : tensor([[3., 3., 3., 3.],\n",
            "        [3., 3., 3., 3.],\n",
            "        [3., 3., 3., 3.],\n",
            "        [3., 3., 3., 3.]])\n",
            "\n",
            "y2: tensor([[3., 3., 3., 3.],\n",
            "        [3., 3., 3., 3.],\n",
            "        [3., 3., 3., 3.],\n",
            "        [3., 3., 3., 3.]])\n",
            "\n",
            "y3: tensor([[3., 3., 3., 3.],\n",
            "        [3., 3., 3., 3.],\n",
            "        [3., 3., 3., 3.],\n",
            "        [3., 3., 3., 3.]])\n",
            "\n",
            "z1: tensor([[1., 0., 1., 1.],\n",
            "        [1., 0., 1., 1.],\n",
            "        [1., 0., 1., 1.],\n",
            "        [1., 0., 1., 1.]])\n",
            "z2: tensor([[1., 0., 1., 1.],\n",
            "        [1., 0., 1., 1.],\n",
            "        [1., 0., 1., 1.],\n",
            "        [1., 0., 1., 1.]])\n",
            "z3: tensor([[1., 0., 1., 1.],\n",
            "        [1., 0., 1., 1.],\n",
            "        [1., 0., 1., 1.],\n",
            "        [1., 0., 1., 1.]])\n"
          ]
        }
      ]
    },
    {
      "cell_type": "markdown",
      "source": [
        "Single-element tensors"
      ],
      "metadata": {
        "id": "L6-GE9hB7UTj"
      }
    },
    {
      "cell_type": "code",
      "source": [
        "agg = tensor.sum()\n",
        "\n",
        "print(f\"agg: {agg}\")\n",
        "print(f\"type(agg): {type(agg)}\")"
      ],
      "metadata": {
        "colab": {
          "base_uri": "https://localhost:8080/"
        },
        "id": "BzeUpZhO7XxF",
        "outputId": "19a17f6b-5dd9-4324-c335-00662afdc270"
      },
      "execution_count": 33,
      "outputs": [
        {
          "output_type": "stream",
          "name": "stdout",
          "text": [
            "agg: 12.0\n",
            "type(agg): <class 'torch.Tensor'>\n"
          ]
        }
      ]
    },
    {
      "cell_type": "code",
      "source": [
        "agg_item = agg.item()\n",
        "\n",
        "print(f\"agg_item: {agg_item}\")\n",
        "print(f\"type(agg): {type(agg_item)}\")"
      ],
      "metadata": {
        "colab": {
          "base_uri": "https://localhost:8080/"
        },
        "id": "F3uujpVx7ivy",
        "outputId": "a447c201-aad8-4812-fe6d-1f3cf719f1eb"
      },
      "execution_count": 34,
      "outputs": [
        {
          "output_type": "stream",
          "name": "stdout",
          "text": [
            "agg_item: 12.0\n",
            "type(agg): <class 'float'>\n"
          ]
        }
      ]
    },
    {
      "cell_type": "markdown",
      "source": [
        "In-place operations<br>\n",
        "They end in an underscore?/_"
      ],
      "metadata": {
        "id": "smfu3R7b8Mqm"
      }
    },
    {
      "cell_type": "code",
      "source": [
        "print(f\"tensor:{tensor}\")\n",
        "\n",
        "tensor.add_(5)\n",
        "\n",
        "print(f\"tensor: {tensor}\")"
      ],
      "metadata": {
        "colab": {
          "base_uri": "https://localhost:8080/"
        },
        "id": "xK1fZgGm8O0g",
        "outputId": "2b9e33bd-73f6-46d6-c84b-1f352f020d18"
      },
      "execution_count": 35,
      "outputs": [
        {
          "output_type": "stream",
          "name": "stdout",
          "text": [
            "tensor:tensor([[1., 0., 1., 1.],\n",
            "        [1., 0., 1., 1.],\n",
            "        [1., 0., 1., 1.],\n",
            "        [1., 0., 1., 1.]])\n",
            "tensor: tensor([[6., 5., 6., 6.],\n",
            "        [6., 5., 6., 6.],\n",
            "        [6., 5., 6., 6.],\n",
            "        [6., 5., 6., 6.]])\n"
          ]
        }
      ]
    },
    {
      "cell_type": "markdown",
      "source": [
        "## Bridge with numpy"
      ],
      "metadata": {
        "id": "YKa-y_Dk8rb0"
      }
    },
    {
      "cell_type": "markdown",
      "source": [
        "Tensors on the CPU and NumPy arrays can share their underlying memory locations, and changing one will change the other. <br>\n",
        "\n",
        "I don't think this case holds with Tensors on the GPU."
      ],
      "metadata": {
        "id": "hgjtRrTW-tMD"
      }
    },
    {
      "cell_type": "markdown",
      "source": [
        "Tensor to NumPy array"
      ],
      "metadata": {
        "id": "ryKSDLrX91GX"
      }
    },
    {
      "cell_type": "code",
      "source": [
        "t = torch.ones(5)\n",
        "print(f\"t: {t}\")\n",
        "print(f\"type(t): {type(t)}\")\n",
        "\n",
        "print(\"\")\n",
        "\n",
        "n = t.numpy()\n",
        "print(f\"n: {n}\")\n",
        "print(f\"type(n): {type(n)}\")"
      ],
      "metadata": {
        "colab": {
          "base_uri": "https://localhost:8080/"
        },
        "id": "J8F0haZN9rzE",
        "outputId": "1c5a7bea-c183-4fb4-e90d-a90457147568"
      },
      "execution_count": 45,
      "outputs": [
        {
          "output_type": "stream",
          "name": "stdout",
          "text": [
            "t: tensor([1., 1., 1., 1., 1.])\n",
            "type(t): <class 'torch.Tensor'>\n",
            "\n",
            "n: [1. 1. 1. 1. 1.]\n",
            "type(n): <class 'numpy.ndarray'>\n"
          ]
        }
      ]
    },
    {
      "cell_type": "markdown",
      "source": [
        "NumPy array to Tensor"
      ],
      "metadata": {
        "id": "QxlAy4BM-bs7"
      }
    },
    {
      "cell_type": "code",
      "source": [
        "n = np.ones(5)\n",
        "print(f\"n: {n}\")\n",
        "print(f\"type(n): {type(n)}\")\n",
        "\n",
        "print(\"\")\n",
        "\n",
        "t = torch.from_numpy(n)\n",
        "print(f\"t: {t}\")\n",
        "print(f\"type(t): {type(t)}\")"
      ],
      "metadata": {
        "colab": {
          "base_uri": "https://localhost:8080/"
        },
        "id": "I0SY2WgB-ht7",
        "outputId": "a4975853-04bd-41c8-bcdf-74844b0d5fce"
      },
      "execution_count": 46,
      "outputs": [
        {
          "output_type": "stream",
          "name": "stdout",
          "text": [
            "n: [1. 1. 1. 1. 1.]\n",
            "type(n): <class 'numpy.ndarray'>\n",
            "\n",
            "t: tensor([1., 1., 1., 1., 1.], dtype=torch.float64)\n",
            "type(t): <class 'torch.Tensor'>\n"
          ]
        }
      ]
    },
    {
      "cell_type": "markdown",
      "source": [
        "Showing that changing a CPU tensor changes the numpy array and vice versa (as they share the same memory space)"
      ],
      "metadata": {
        "id": "elJhd-8J_bn0"
      }
    },
    {
      "cell_type": "code",
      "source": [
        "t.add_(5)\n",
        "\n",
        "print(f\"t: {t}\\n\")\n",
        "print(f\"n: {n}\")"
      ],
      "metadata": {
        "colab": {
          "base_uri": "https://localhost:8080/"
        },
        "id": "xx3iQOkeAbnG",
        "outputId": "4219ddb8-0c53-4367-cf1f-b22f017bd55b"
      },
      "execution_count": 47,
      "outputs": [
        {
          "output_type": "stream",
          "name": "stdout",
          "text": [
            "t: tensor([6., 6., 6., 6., 6.], dtype=torch.float64)\n",
            "\n",
            "n: [6. 6. 6. 6. 6.]\n"
          ]
        }
      ]
    },
    {
      "cell_type": "code",
      "source": [
        "n += 5\n",
        "\n",
        "print(f\"t: {t}\\n\")\n",
        "print(f\"n: {n}\")"
      ],
      "metadata": {
        "colab": {
          "base_uri": "https://localhost:8080/"
        },
        "id": "rR555JIbAnep",
        "outputId": "60ca0fe6-c52c-409b-8a6f-76e1c7a22c6b"
      },
      "execution_count": 48,
      "outputs": [
        {
          "output_type": "stream",
          "name": "stdout",
          "text": [
            "t: tensor([11., 11., 11., 11., 11.], dtype=torch.float64)\n",
            "\n",
            "n: [11. 11. 11. 11. 11.]\n"
          ]
        }
      ]
    },
    {
      "cell_type": "markdown",
      "source": [
        "The same does not hold for Tensors on GPU"
      ],
      "metadata": {
        "id": "6R6TnnQgBHmT"
      }
    },
    {
      "cell_type": "code",
      "source": [
        "t_cuda = t.to(\"cuda\")\n",
        "\n",
        "t_cuda.add_(5)\n",
        "\n",
        "print(f\"t_cuda: {t_cuda}\\n\")\n",
        "print(f\"n: {n}\")"
      ],
      "metadata": {
        "colab": {
          "base_uri": "https://localhost:8080/"
        },
        "id": "gBI7Qy4OA2lr",
        "outputId": "9f01f88f-e31e-4701-8624-0668af393e79"
      },
      "execution_count": 49,
      "outputs": [
        {
          "output_type": "stream",
          "name": "stdout",
          "text": [
            "t_cuda: tensor([16., 16., 16., 16., 16.], device='cuda:0', dtype=torch.float64)\n",
            "\n",
            "n: [11. 11. 11. 11. 11.]\n"
          ]
        }
      ]
    }
  ],
  "metadata": {
    "kernelspec": {
      "display_name": "Python 3",
      "name": "python3"
    },
    "language_info": {
      "codemirror_mode": {
        "name": "ipython",
        "version": 3
      },
      "file_extension": ".py",
      "mimetype": "text/x-python",
      "name": "python",
      "nbconvert_exporter": "python",
      "pygments_lexer": "ipython3",
      "version": "3.10.13"
    },
    "colab": {
      "provenance": [],
      "gpuType": "T4"
    },
    "accelerator": "GPU"
  },
  "nbformat": 4,
  "nbformat_minor": 0
}