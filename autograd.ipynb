{
  "nbformat": 4,
  "nbformat_minor": 0,
  "metadata": {
    "colab": {
      "provenance": [],
      "authorship_tag": "ABX9TyPNavtq2Sp6Bt8Xd8WupPKe"
    },
    "kernelspec": {
      "name": "python3",
      "display_name": "Python 3"
    },
    "language_info": {
      "name": "python"
    }
  },
  "cells": [
    {
      "cell_type": "markdown",
      "source": [
        "# Automatic Differentiation With Torch.Autograd"
      ],
      "metadata": {
        "id": "XkcS9jZJX6ZQ"
      }
    },
    {
      "cell_type": "markdown",
      "source": [
        "Imports"
      ],
      "metadata": {
        "id": "unUALpkfYH19"
      }
    },
    {
      "cell_type": "code",
      "execution_count": 7,
      "metadata": {
        "id": "qAqS20ZWXwiz"
      },
      "outputs": [],
      "source": [
        "import torch"
      ]
    },
    {
      "cell_type": "code",
      "source": [
        "x = torch.ones(5)\n",
        "y = torch.zeros(3)\n",
        "w = torch.randn(5, 3, requires_grad=True)\n",
        "b = torch.randn(3, requires_grad=True)\n",
        "z = (x @ w) + b\n",
        "loss = torch.nn.functional.binary_cross_entropy_with_logits(z, y)\n",
        "\n",
        "loss"
      ],
      "metadata": {
        "colab": {
          "base_uri": "https://localhost:8080/"
        },
        "id": "TK6SR1_MYbuu",
        "outputId": "9ae02f14-078c-48cc-9049-d45ef434227f"
      },
      "execution_count": 8,
      "outputs": [
        {
          "output_type": "execute_result",
          "data": {
            "text/plain": [
              "tensor(0.5504, grad_fn=<BinaryCrossEntropyWithLogitsBackward0>)"
            ]
          },
          "metadata": {},
          "execution_count": 8
        }
      ]
    },
    {
      "cell_type": "markdown",
      "source": [
        "Tensors, Functions and Computational graph"
      ],
      "metadata": {
        "id": "7EAbpUz6Zz7Z"
      }
    },
    {
      "cell_type": "code",
      "source": [
        "print(f\"Gradient function for z: {z.grad_fn}\")\n",
        "print(f\"Gradient function for loss: {loss.grad_fn} \")"
      ],
      "metadata": {
        "colab": {
          "base_uri": "https://localhost:8080/"
        },
        "id": "B2ukD8MJZ5Wt",
        "outputId": "ef5ff2d4-a538-42bd-d859-0af7f2c96acf"
      },
      "execution_count": 9,
      "outputs": [
        {
          "output_type": "stream",
          "name": "stdout",
          "text": [
            "Gradient function for z: <AddBackward0 object at 0x7c7ba9c97cd0>\n",
            "Gradient function for loss: <BinaryCrossEntropyWithLogitsBackward0 object at 0x7c7ba87c3fa0> \n"
          ]
        }
      ]
    },
    {
      "cell_type": "markdown",
      "source": [
        "Computing Gradients"
      ],
      "metadata": {
        "id": "Lbt9XgCSao11"
      }
    },
    {
      "cell_type": "code",
      "source": [
        "loss.backward()\n",
        "print(w.grad)\n",
        "print(b.grad)"
      ],
      "metadata": {
        "id": "92GoFt4hap8o",
        "colab": {
          "base_uri": "https://localhost:8080/"
        },
        "outputId": "7ce327f3-7eac-4c2e-e212-ea5da118e49f"
      },
      "execution_count": 10,
      "outputs": [
        {
          "output_type": "stream",
          "name": "stdout",
          "text": [
            "tensor([[0.0427, 0.0457, 0.2484],\n",
            "        [0.0427, 0.0457, 0.2484],\n",
            "        [0.0427, 0.0457, 0.2484],\n",
            "        [0.0427, 0.0457, 0.2484],\n",
            "        [0.0427, 0.0457, 0.2484]])\n",
            "tensor([0.0427, 0.0457, 0.2484])\n"
          ]
        }
      ]
    },
    {
      "cell_type": "markdown",
      "source": [
        "Disabling Gradient Tracking"
      ],
      "metadata": {
        "id": "7NEBX53eE9I4"
      }
    },
    {
      "cell_type": "code",
      "source": [
        "z =  torch.matmul(x, w) + b\n",
        "print(z.requires_grad)\n",
        "\n",
        "# Anything that will placed in this block will have it's require_grad=False\n",
        "with torch.no_grad():\n",
        "  z = torch.matmul(x, w) + b\n",
        "\n",
        "print(z.requires_grad)\n",
        "print(z.requires_grad)\n",
        "z =  torch.matmul(x, w) + b\n",
        "print(z.requires_grad)"
      ],
      "metadata": {
        "colab": {
          "base_uri": "https://localhost:8080/"
        },
        "id": "pwti7OWAFCw0",
        "outputId": "96b34a47-c620-4447-d774-9c72041dd9bf"
      },
      "execution_count": 12,
      "outputs": [
        {
          "output_type": "stream",
          "name": "stdout",
          "text": [
            "True\n",
            "False\n",
            "False\n",
            "True\n"
          ]
        }
      ]
    },
    {
      "cell_type": "code",
      "source": [
        "z = torch.matmul(x, w) + b\n",
        "z_det = z.detach()\n",
        "print(z_det.requires_grad)\n",
        "z = torch.matmul(x, w) + b\n",
        "print(z_det.requires_grad)"
      ],
      "metadata": {
        "colab": {
          "base_uri": "https://localhost:8080/"
        },
        "id": "ayWOrrjJGxcD",
        "outputId": "bcc658a3-5d1a-46f9-95f4-df31a0198913"
      },
      "execution_count": 15,
      "outputs": [
        {
          "output_type": "stream",
          "name": "stdout",
          "text": [
            "False\n",
            "False\n"
          ]
        }
      ]
    }
  ]
}