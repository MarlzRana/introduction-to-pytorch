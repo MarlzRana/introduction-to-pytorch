{
  "nbformat": 4,
  "nbformat_minor": 0,
  "metadata": {
    "colab": {
      "provenance": [],
      "gpuType": "T4",
      "authorship_tag": "ABX9TyM4Ghm2ENucRrzBRWVCYHGH"
    },
    "kernelspec": {
      "name": "python3",
      "display_name": "Python 3"
    },
    "language_info": {
      "name": "python"
    },
    "accelerator": "GPU"
  },
  "cells": [
    {
      "cell_type": "markdown",
      "source": [
        "# Building the Neural Network"
      ],
      "metadata": {
        "id": "GuiNtUsTUt4I"
      }
    },
    {
      "cell_type": "markdown",
      "source": [
        "Imports"
      ],
      "metadata": {
        "id": "uzDGrhycUwf5"
      }
    },
    {
      "cell_type": "code",
      "execution_count": null,
      "metadata": {
        "id": "mxNgwu01Uf0l"
      },
      "outputs": [],
      "source": [
        "import os\n",
        "\n",
        "import torch\n",
        "from torch import nn\n",
        "from torchvision import datasets, transforms\n",
        "from torch.utils.data import DataLoader\n",
        "from torchvision import datasets, transforms"
      ]
    },
    {
      "cell_type": "markdown",
      "source": [
        "Get Device for Training"
      ],
      "metadata": {
        "id": "qIkFPpH5VTzS"
      }
    },
    {
      "cell_type": "code",
      "source": [
        "device = (\n",
        "    \"cuda\" if torch.cuda.is_available()\n",
        "    else \"mps\" if torch.backends.mps.is_available()\n",
        "    else \"cpu\"\n",
        ")\n",
        "\n",
        "print(f\"Using {device} device\")"
      ],
      "metadata": {
        "colab": {
          "base_uri": "https://localhost:8080/"
        },
        "id": "xvVuVeQxVXPr",
        "outputId": "b217c62d-9716-469a-c3b4-52344a081cd9"
      },
      "execution_count": null,
      "outputs": [
        {
          "output_type": "stream",
          "name": "stdout",
          "text": [
            "Using cuda device\n"
          ]
        }
      ]
    },
    {
      "cell_type": "markdown",
      "source": [
        "Define the class"
      ],
      "metadata": {
        "id": "9maslT37VVV-"
      }
    },
    {
      "cell_type": "code",
      "source": [
        "class NeuralNetwork(nn.Module):\n",
        "  def __init__(self):\n",
        "    super().__init__()\n",
        "    self.flatten = nn.Flatten()\n",
        "    self.linear_relu_stack = nn.Sequential(\n",
        "        nn.Linear(28*28, 512),\n",
        "        nn.ReLU(),\n",
        "        nn.Linear(512, 512),\n",
        "        nn.ReLU(),\n",
        "        nn.Linear(512, 10)\n",
        "    )\n",
        "\n",
        "  def forward(self, x):\n",
        "    x = self.flatten(x)\n",
        "    logits = self.linear_relu_stack(x)\n",
        "    return logits"
      ],
      "metadata": {
        "id": "oR8Z2tBVVZEs"
      },
      "execution_count": null,
      "outputs": []
    },
    {
      "cell_type": "code",
      "source": [
        "model = NeuralNetwork().to(device)\n",
        "print(model)"
      ],
      "metadata": {
        "colab": {
          "base_uri": "https://localhost:8080/"
        },
        "id": "1nbTxLYtVfZ0",
        "outputId": "58e25e3f-eb99-4315-ec3c-be8363330bc2"
      },
      "execution_count": null,
      "outputs": [
        {
          "output_type": "stream",
          "name": "stdout",
          "text": [
            "NeuralNetwork(\n",
            "  (flatten): Flatten(start_dim=1, end_dim=-1)\n",
            "  (linear_relu_stack): Sequential(\n",
            "    (0): Linear(in_features=784, out_features=512, bias=True)\n",
            "    (1): ReLU()\n",
            "    (2): Linear(in_features=512, out_features=512, bias=True)\n",
            "    (3): ReLU()\n",
            "    (4): Linear(in_features=512, out_features=10, bias=True)\n",
            "  )\n",
            ")\n"
          ]
        }
      ]
    },
    {
      "cell_type": "code",
      "source": [
        "X = torch.rand(1, 28, 28, device=device)\n",
        "logits = model(X)\n",
        "pred_probab = nn.Softmax(dim=1)(logits)\n",
        "y_pred = pred_probab.argmax(1)\n",
        "print(f\"Predicted class: {y_pred}\")"
      ],
      "metadata": {
        "colab": {
          "base_uri": "https://localhost:8080/"
        },
        "id": "m1dXrmBPVf45",
        "outputId": "372048c9-0d0e-4fa1-a4a5-6234bf9deb09"
      },
      "execution_count": null,
      "outputs": [
        {
          "output_type": "stream",
          "name": "stdout",
          "text": [
            "Predicted class: tensor([0], device='cuda:0')\n"
          ]
        }
      ]
    },
    {
      "cell_type": "markdown",
      "source": [
        "# Model Layers"
      ],
      "metadata": {
        "id": "Ck2L_K2DVd2v"
      }
    },
    {
      "cell_type": "code",
      "source": [
        "input_image = torch.rand(3, 28, 28).to(device)\n",
        "input_image.shape"
      ],
      "metadata": {
        "colab": {
          "base_uri": "https://localhost:8080/"
        },
        "id": "IjxerDGpVxGW",
        "outputId": "bdd655c9-0165-45a8-c789-8206ee3539d1"
      },
      "execution_count": null,
      "outputs": [
        {
          "output_type": "execute_result",
          "data": {
            "text/plain": [
              "torch.Size([3, 28, 28])"
            ]
          },
          "metadata": {},
          "execution_count": 8
        }
      ]
    },
    {
      "cell_type": "markdown",
      "source": [
        "nn.Flatten"
      ],
      "metadata": {
        "id": "eucrfVb7VylD"
      }
    },
    {
      "cell_type": "code",
      "source": [
        "flatten = nn.Flatten()\n",
        "flat_image = flatten(input_image)\n",
        "flat_image.shape"
      ],
      "metadata": {
        "colab": {
          "base_uri": "https://localhost:8080/"
        },
        "id": "6ckvlTNkV0jf",
        "outputId": "79a53453-20ff-4b33-fc93-4baf4ab9f39d"
      },
      "execution_count": null,
      "outputs": [
        {
          "output_type": "execute_result",
          "data": {
            "text/plain": [
              "torch.Size([3, 784])"
            ]
          },
          "metadata": {},
          "execution_count": 9
        }
      ]
    },
    {
      "cell_type": "markdown",
      "source": [
        "nn.Linear"
      ],
      "metadata": {
        "id": "F21G6jbfV13h"
      }
    },
    {
      "cell_type": "code",
      "source": [
        "layer1 = nn.Linear(in_features=28*28, out_features=20).to(device)\n",
        "hidden1 = layer1(flat_image)\n",
        "hidden1.shape"
      ],
      "metadata": {
        "colab": {
          "base_uri": "https://localhost:8080/"
        },
        "id": "MqRLHKvRV4To",
        "outputId": "877b559e-4321-4250-d1a7-9ac6330df433"
      },
      "execution_count": null,
      "outputs": [
        {
          "output_type": "execute_result",
          "data": {
            "text/plain": [
              "torch.Size([3, 20])"
            ]
          },
          "metadata": {},
          "execution_count": 10
        }
      ]
    },
    {
      "cell_type": "markdown",
      "source": [
        "nn.ReLU"
      ],
      "metadata": {
        "id": "XucV7Y-FV6Mc"
      }
    },
    {
      "cell_type": "code",
      "source": [
        "print(f\"Before ReLU: {hidden1}\\n\\n\")\n",
        "\n",
        "hidden1 = nn.ReLU()(hidden1)\n",
        "\n",
        "print(f\"After ReLU: {hidden1}\")"
      ],
      "metadata": {
        "colab": {
          "base_uri": "https://localhost:8080/"
        },
        "id": "QMEz95PUV8uX",
        "outputId": "83aa94f1-8468-4690-ed74-6378690cd777"
      },
      "execution_count": null,
      "outputs": [
        {
          "output_type": "stream",
          "name": "stdout",
          "text": [
            "Before ReLU: tensor([[ 0.4185,  0.4960,  0.1616, -0.1474,  0.4158,  0.8370, -0.6490, -0.5628,\n",
            "          0.7104,  0.0267,  0.4604, -0.2891, -0.0854, -0.2335,  0.4901, -0.3287,\n",
            "          0.4095, -0.1295,  0.1027,  0.3758],\n",
            "        [ 0.1450,  0.4776, -0.0187,  0.2577,  0.0584,  0.6567, -0.3282, -0.3056,\n",
            "          0.5562, -0.2168,  0.5527, -0.3961, -0.1897, -0.2760,  0.6786, -0.5368,\n",
            "          0.3929,  0.0111, -0.0268, -0.0957],\n",
            "        [-0.4294,  0.3412,  0.0177, -0.0206,  0.0946,  0.8043, -0.2534, -0.5857,\n",
            "          0.4991, -0.1990,  0.1432, -0.5639, -0.1105, -0.6588,  0.5177, -0.2287,\n",
            "          0.1861,  0.2886, -0.0171,  0.4434]], device='cuda:0',\n",
            "       grad_fn=<AddmmBackward0>)\n",
            "\n",
            "\n",
            "After ReLU: tensor([[0.4185, 0.4960, 0.1616, 0.0000, 0.4158, 0.8370, 0.0000, 0.0000, 0.7104,\n",
            "         0.0267, 0.4604, 0.0000, 0.0000, 0.0000, 0.4901, 0.0000, 0.4095, 0.0000,\n",
            "         0.1027, 0.3758],\n",
            "        [0.1450, 0.4776, 0.0000, 0.2577, 0.0584, 0.6567, 0.0000, 0.0000, 0.5562,\n",
            "         0.0000, 0.5527, 0.0000, 0.0000, 0.0000, 0.6786, 0.0000, 0.3929, 0.0111,\n",
            "         0.0000, 0.0000],\n",
            "        [0.0000, 0.3412, 0.0177, 0.0000, 0.0946, 0.8043, 0.0000, 0.0000, 0.4991,\n",
            "         0.0000, 0.1432, 0.0000, 0.0000, 0.0000, 0.5177, 0.0000, 0.1861, 0.2886,\n",
            "         0.0000, 0.4434]], device='cuda:0', grad_fn=<ReluBackward0>)\n"
          ]
        }
      ]
    },
    {
      "cell_type": "markdown",
      "source": [
        "nn.Sequential"
      ],
      "metadata": {
        "id": "4sKcGIVvV9aq"
      }
    },
    {
      "cell_type": "code",
      "source": [
        "seq_modules = nn.Sequential(\n",
        "    flatten,\n",
        "    layer1,\n",
        "    nn.ReLU(),\n",
        "    nn.Linear(20, 10)\n",
        ").to(device)\n",
        "\n",
        "input_image = torch.rand(3, 28 , 28).to(device)\n",
        "logits = seq_modules(input_image)\n",
        "\n",
        "logits"
      ],
      "metadata": {
        "colab": {
          "base_uri": "https://localhost:8080/"
        },
        "id": "CIbPnTczWBH7",
        "outputId": "26e48b8e-d520-4783-e904-e73dff97bd98"
      },
      "execution_count": null,
      "outputs": [
        {
          "output_type": "execute_result",
          "data": {
            "text/plain": [
              "tensor([[-0.0924, -0.1904,  0.5192,  0.5090,  0.1671,  0.0703,  0.3863, -0.4230,\n",
              "         -0.1213, -0.3671],\n",
              "        [-0.0654, -0.2836,  0.4985,  0.6372,  0.2440,  0.0568,  0.3282, -0.3646,\n",
              "         -0.0862, -0.4271],\n",
              "        [-0.0093, -0.2767,  0.3949,  0.3830,  0.1240,  0.2335,  0.2560, -0.2090,\n",
              "         -0.0793, -0.3858]], device='cuda:0', grad_fn=<AddmmBackward0>)"
            ]
          },
          "metadata": {},
          "execution_count": 12
        }
      ]
    },
    {
      "cell_type": "markdown",
      "source": [
        "nn.Softmax"
      ],
      "metadata": {
        "id": "SKxDpMjAWCFn"
      }
    },
    {
      "cell_type": "code",
      "source": [
        "softmax = nn.Softmax(dim=1).to(device)\n",
        "pred_probab = softmax(logits)\n",
        "\n",
        "pred_probab"
      ],
      "metadata": {
        "colab": {
          "base_uri": "https://localhost:8080/"
        },
        "id": "-d-LJHO0WENv",
        "outputId": "32f7c2f1-3aca-4b10-b6d5-5105521b0b57"
      },
      "execution_count": null,
      "outputs": [
        {
          "output_type": "execute_result",
          "data": {
            "text/plain": [
              "tensor([[0.0826, 0.0749, 0.1522, 0.1507, 0.1070, 0.0972, 0.1333, 0.0593, 0.0802,\n",
              "         0.0627],\n",
              "        [0.0835, 0.0671, 0.1468, 0.1686, 0.1138, 0.0944, 0.1238, 0.0619, 0.0818,\n",
              "         0.0582],\n",
              "        [0.0917, 0.0702, 0.1374, 0.1358, 0.1048, 0.1169, 0.1196, 0.0751, 0.0855,\n",
              "         0.0629]], device='cuda:0', grad_fn=<SoftmaxBackward0>)"
            ]
          },
          "metadata": {},
          "execution_count": 13
        }
      ]
    },
    {
      "cell_type": "markdown",
      "source": [
        "Model Parameters"
      ],
      "metadata": {
        "id": "0bi6_WSQWFed"
      }
    },
    {
      "cell_type": "code",
      "source": [
        "print(f\"Model structure: {model}\\n\\n\")\n",
        "\n",
        "for name, param in model.named_parameters():\n",
        "  print(f\"Layer: {name} | Size: {param.size()} | Values: {param[:2]} \\n\")"
      ],
      "metadata": {
        "colab": {
          "base_uri": "https://localhost:8080/"
        },
        "id": "EW_rt-V_WIJJ",
        "outputId": "79948f0c-f006-4115-eda7-f155be024372"
      },
      "execution_count": null,
      "outputs": [
        {
          "output_type": "stream",
          "name": "stdout",
          "text": [
            "Model structure: NeuralNetwork(\n",
            "  (flatten): Flatten(start_dim=1, end_dim=-1)\n",
            "  (linear_relu_stack): Sequential(\n",
            "    (0): Linear(in_features=784, out_features=512, bias=True)\n",
            "    (1): ReLU()\n",
            "    (2): Linear(in_features=512, out_features=512, bias=True)\n",
            "    (3): ReLU()\n",
            "    (4): Linear(in_features=512, out_features=10, bias=True)\n",
            "  )\n",
            ")\n",
            "\n",
            "\n",
            "Layer: linear_relu_stack.0.weight | Size: torch.Size([512, 784]) | Values: tensor([[ 0.0087,  0.0117, -0.0273,  ...,  0.0275, -0.0261, -0.0139],\n",
            "        [-0.0115, -0.0328,  0.0076,  ..., -0.0243,  0.0032, -0.0124]],\n",
            "       device='cuda:0', grad_fn=<SliceBackward0>) \n",
            "\n",
            "Layer: linear_relu_stack.0.bias | Size: torch.Size([512]) | Values: tensor([-0.0202,  0.0026], device='cuda:0', grad_fn=<SliceBackward0>) \n",
            "\n",
            "Layer: linear_relu_stack.2.weight | Size: torch.Size([512, 512]) | Values: tensor([[ 0.0027,  0.0310, -0.0245,  ...,  0.0394, -0.0345, -0.0436],\n",
            "        [ 0.0216,  0.0343,  0.0395,  ...,  0.0091,  0.0193, -0.0168]],\n",
            "       device='cuda:0', grad_fn=<SliceBackward0>) \n",
            "\n",
            "Layer: linear_relu_stack.2.bias | Size: torch.Size([512]) | Values: tensor([-0.0361, -0.0298], device='cuda:0', grad_fn=<SliceBackward0>) \n",
            "\n",
            "Layer: linear_relu_stack.4.weight | Size: torch.Size([10, 512]) | Values: tensor([[ 0.0266, -0.0297,  0.0235,  ...,  0.0007,  0.0286, -0.0240],\n",
            "        [ 0.0265, -0.0303,  0.0232,  ...,  0.0199,  0.0324,  0.0230]],\n",
            "       device='cuda:0', grad_fn=<SliceBackward0>) \n",
            "\n",
            "Layer: linear_relu_stack.4.bias | Size: torch.Size([10]) | Values: tensor([-0.0385,  0.0319], device='cuda:0', grad_fn=<SliceBackward0>) \n",
            "\n"
          ]
        }
      ]
    }
  ]
}